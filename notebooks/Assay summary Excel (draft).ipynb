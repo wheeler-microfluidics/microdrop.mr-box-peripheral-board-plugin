{
 "cells": [
  {
   "cell_type": "code",
   "execution_count": 1,
   "metadata": {
    "ExecuteTime": {
     "end_time": "2017-08-18T16:40:10.459000Z",
     "start_time": "2017-08-18T16:40:10.454000Z"
    },
    "collapsed": true
   },
   "outputs": [],
   "source": [
    "import logging; logging.basicConfig(level=logging.DEBUG)"
   ]
  },
  {
   "cell_type": "code",
   "execution_count": 38,
   "metadata": {
    "ExecuteTime": {
     "end_time": "2017-08-19T03:36:41.174000Z",
     "start_time": "2017-08-19T03:36:41.154000Z"
    }
   },
   "outputs": [
    {
     "data": {
      "text/plain": [
       "<module 'mpm.ui.gtk' from 'C:\\Users\\chris\\Documents\\GitHub\\mpm\\mpm\\ui\\gtk\\__init__.pyc'>"
      ]
     },
     "execution_count": 38,
     "metadata": {},
     "output_type": "execute_result"
    }
   ],
   "source": [
    "import mpm\n",
    "import mpm.api\n",
    "import mpm.ui.gtk\n",
    "reload(mpm)\n",
    "reload(mpm.api)\n",
    "reload(mpm.ui.gtk)"
   ]
  },
  {
   "cell_type": "code",
   "execution_count": 36,
   "metadata": {
    "ExecuteTime": {
     "end_time": "2017-08-19T03:32:51.983000Z",
     "start_time": "2017-08-19T03:32:51.941000Z"
    }
   },
   "outputs": [
    {
     "data": {
      "text/plain": [
       "<module 'conda_helpers' from 'conda_helpers\\__init__.py'>"
      ]
     },
     "execution_count": 36,
     "metadata": {},
     "output_type": "execute_result"
    }
   ],
   "source": [
    "import conda_helpers as ch\n",
    "reload(ch)"
   ]
  },
  {
   "cell_type": "code",
   "execution_count": 7,
   "metadata": {
    "ExecuteTime": {
     "end_time": "2017-08-18T22:59:50.960000Z",
     "start_time": "2017-08-18T22:59:50.949000Z"
    },
    "collapsed": true
   },
   "outputs": [],
   "source": [
    "import yaml"
   ]
  },
  {
   "cell_type": "code",
   "execution_count": 11,
   "metadata": {
    "ExecuteTime": {
     "end_time": "2017-08-18T23:01:19.821000Z",
     "start_time": "2017-08-18T23:01:19.814000Z"
    }
   },
   "outputs": [
    {
     "name": "stdout",
     "output_type": "stream",
     "text": [
      "channels:\n",
      "- sci-bots\n",
      "- microdrop-plugins\n",
      "- wheeler-microfluidics\n",
      "- conda-forge\n",
      "- defaults\n",
      "\n"
     ]
    }
   ],
   "source": [
    "print yaml.dump({'channels': ['sci-bots', 'microdrop-plugins', 'wheeler-microfluidics', 'conda-forge', 'defaults']}, default_flow_style=False)"
   ]
  },
  {
   "cell_type": "code",
   "execution_count": 41,
   "metadata": {
    "ExecuteTime": {
     "end_time": "2017-08-19T15:27:11.994000Z",
     "start_time": "2017-08-19T15:27:11.985000Z"
    },
    "collapsed": true,
    "scrolled": false
   },
   "outputs": [],
   "source": [
    "# mpm.ui.gtk.update_plugin_dialog(package_name=['foobar', 'microdrop.mr-box-plugin'],\n",
    "#                                 update_args=['--dry-run'])\n",
    "# print ch.conda_exec('search', '--json', '-c', 'microdrop-plugins', '^microdrop\\.')\n",
    "# mpm.api.available_packages()"
   ]
  },
  {
   "cell_type": "code",
   "execution_count": 42,
   "metadata": {
    "ExecuteTime": {
     "end_time": "2017-08-19T15:27:18.752000Z",
     "start_time": "2017-08-19T15:27:17.589000Z"
    },
    "collapsed": true
   },
   "outputs": [],
   "source": [
    "import pandas as pd"
   ]
  },
  {
   "cell_type": "code",
   "execution_count": 14,
   "metadata": {
    "ExecuteTime": {
     "end_time": "2017-08-19T16:34:38.857000Z",
     "start_time": "2017-08-19T16:34:38.812000Z"
    }
   },
   "outputs": [
    {
     "ename": "TypeError",
     "evalue": "expected <type 'basestring'>",
     "output_type": "error",
     "traceback": [
      "\u001b[1;31m---------------------------------------------------------------------------\u001b[0m",
      "\u001b[1;31mTypeError\u001b[0m                                 Traceback (most recent call last)",
      "\u001b[1;32m<ipython-input-14-5ab2ed30f1cd>\u001b[0m in \u001b[0;36m<module>\u001b[1;34m()\u001b[0m\n\u001b[1;32m----> 1\u001b[1;33m \u001b[0mws\u001b[0m\u001b[1;33m.\u001b[0m\u001b[0mcolumn_dimensions\u001b[0m\u001b[1;33m[\u001b[0m\u001b[1;36m1\u001b[0m\u001b[1;33m]\u001b[0m\u001b[1;33m\u001b[0m\u001b[0m\n\u001b[0m",
      "\u001b[1;32mC:\\Users\\chris\\Miniconda2\\envs\\dropbot.py\\lib\\site-packages\\openpyxl\\utils\\bound_dictionary.pyc\u001b[0m in \u001b[0;36m__getitem__\u001b[1;34m(self, key)\u001b[0m\n\u001b[0;32m     24\u001b[0m         \u001b[0mvalue\u001b[0m \u001b[1;33m=\u001b[0m \u001b[0msuper\u001b[0m\u001b[1;33m(\u001b[0m\u001b[0mBoundDictionary\u001b[0m\u001b[1;33m,\u001b[0m \u001b[0mself\u001b[0m\u001b[1;33m)\u001b[0m\u001b[1;33m.\u001b[0m\u001b[0m__getitem__\u001b[0m\u001b[1;33m(\u001b[0m\u001b[0mkey\u001b[0m\u001b[1;33m)\u001b[0m\u001b[1;33m\u001b[0m\u001b[0m\n\u001b[0;32m     25\u001b[0m         \u001b[1;32mif\u001b[0m \u001b[0mself\u001b[0m\u001b[1;33m.\u001b[0m\u001b[0mreference\u001b[0m \u001b[1;32mis\u001b[0m \u001b[1;32mnot\u001b[0m \u001b[0mNone\u001b[0m\u001b[1;33m:\u001b[0m\u001b[1;33m\u001b[0m\u001b[0m\n\u001b[1;32m---> 26\u001b[1;33m             \u001b[0msetattr\u001b[0m\u001b[1;33m(\u001b[0m\u001b[0mvalue\u001b[0m\u001b[1;33m,\u001b[0m \u001b[0mself\u001b[0m\u001b[1;33m.\u001b[0m\u001b[0mreference\u001b[0m\u001b[1;33m,\u001b[0m \u001b[0mkey\u001b[0m\u001b[1;33m)\u001b[0m\u001b[1;33m\u001b[0m\u001b[0m\n\u001b[0m\u001b[0;32m     27\u001b[0m         \u001b[1;32mreturn\u001b[0m \u001b[0mvalue\u001b[0m\u001b[1;33m\u001b[0m\u001b[0m\n",
      "\u001b[1;32mC:\\Users\\chris\\Miniconda2\\envs\\dropbot.py\\lib\\site-packages\\openpyxl\\descriptors\\base.pyc\u001b[0m in \u001b[0;36m__set__\u001b[1;34m(self, instance, value)\u001b[0m\n\u001b[0;32m     42\u001b[0m             if (not self.allow_none\n\u001b[0;32m     43\u001b[0m                 or (self.allow_none and value is not None)):\n\u001b[1;32m---> 44\u001b[1;33m                 \u001b[1;32mraise\u001b[0m \u001b[0mTypeError\u001b[0m\u001b[1;33m(\u001b[0m\u001b[1;34m'expected '\u001b[0m \u001b[1;33m+\u001b[0m \u001b[0mstr\u001b[0m\u001b[1;33m(\u001b[0m\u001b[0mself\u001b[0m\u001b[1;33m.\u001b[0m\u001b[0mexpected_type\u001b[0m\u001b[1;33m)\u001b[0m\u001b[1;33m)\u001b[0m\u001b[1;33m\u001b[0m\u001b[0m\n\u001b[0m\u001b[0;32m     45\u001b[0m         \u001b[0msuper\u001b[0m\u001b[1;33m(\u001b[0m\u001b[0mTyped\u001b[0m\u001b[1;33m,\u001b[0m \u001b[0mself\u001b[0m\u001b[1;33m)\u001b[0m\u001b[1;33m.\u001b[0m\u001b[0m__set__\u001b[0m\u001b[1;33m(\u001b[0m\u001b[0minstance\u001b[0m\u001b[1;33m,\u001b[0m \u001b[0mvalue\u001b[0m\u001b[1;33m)\u001b[0m\u001b[1;33m\u001b[0m\u001b[0m\n\u001b[0;32m     46\u001b[0m \u001b[1;33m\u001b[0m\u001b[0m\n",
      "\u001b[1;31mTypeError\u001b[0m: expected <type 'basestring'>"
     ]
    }
   ],
   "source": [
    "ws.column_dimensions[1]"
   ]
  },
  {
   "cell_type": "code",
   "execution_count": 56,
   "metadata": {
    "ExecuteTime": {
     "end_time": "2017-08-19T17:01:51.406000Z",
     "start_time": "2017-08-19T17:01:51.400000Z"
    }
   },
   "outputs": [
    {
     "data": {
      "text/plain": [
       "datetime.date(2017, 8, 19)"
      ]
     },
     "execution_count": 56,
     "metadata": {},
     "output_type": "execute_result"
    }
   ],
   "source": [
    "dt.datetime.now().date()"
   ]
  },
  {
   "cell_type": "code",
   "execution_count": 69,
   "metadata": {
    "ExecuteTime": {
     "end_time": "2017-08-19T18:29:58.332000Z",
     "start_time": "2017-08-19T18:29:58.326000Z"
    }
   },
   "outputs": [
    {
     "data": {
      "text/plain": [
       "<openpyxl.worksheet.datavalidation.DataValidation object>\n",
       "Parameters:\n",
       "showErrorMessage=True, operator=None, prompt='Date', imeMode=None, errorStyle=None, showDropDown=None, showInputMessage=True, type='date', allowBlank=False, promptTitle='Please enter date of test', error='Please enter date in format: YYYY-MM-DD', errorTitle='Invalid date format', sqref='', formula1=None, formula2=None"
      ]
     },
     "execution_count": 69,
     "metadata": {},
     "output_type": "execute_result"
    }
   ],
   "source": [
    "(ox.worksheet.datavalidation\n",
    " .DataValidation())"
   ]
  },
  {
   "cell_type": "code",
   "execution_count": 96,
   "metadata": {
    "ExecuteTime": {
     "end_time": "2017-08-19T19:12:57.265000Z",
     "start_time": "2017-08-19T19:12:57.199000Z"
    }
   },
   "outputs": [
    {
     "data": {
      "text/html": [
       "<div>\n",
       "<style>\n",
       "    .dataframe thead tr:only-child th {\n",
       "        text-align: right;\n",
       "    }\n",
       "\n",
       "    .dataframe thead th {\n",
       "        text-align: left;\n",
       "    }\n",
       "\n",
       "    .dataframe tbody tr th {\n",
       "        vertical-align: top;\n",
       "    }\n",
       "</style>\n",
       "<table border=\"1\" class=\"dataframe\">\n",
       "  <thead>\n",
       "    <tr style=\"text-align: right;\">\n",
       "      <th></th>\n",
       "      <th>Box ID</th>\n",
       "      <th>Operator</th>\n",
       "      <th>Device Type</th>\n",
       "      <th>Analyte</th>\n",
       "      <th>Standards</th>\n",
       "      <th>Sample ID Label</th>\n",
       "      <th>Sample ID</th>\n",
       "      <th>Sample Type</th>\n",
       "      <th>Accepted?</th>\n",
       "      <th>Device Problems</th>\n",
       "      <th>Device ID Glass</th>\n",
       "      <th>Device ID Printed</th>\n",
       "      <th>Date</th>\n",
       "      <th>Location</th>\n",
       "      <th>Multiplexed</th>\n",
       "    </tr>\n",
       "  </thead>\n",
       "  <tbody>\n",
       "    <tr>\n",
       "      <th>0</th>\n",
       "      <td>MR Box DRC 1</td>\n",
       "      <td>Julian</td>\n",
       "      <td>Glass</td>\n",
       "      <td>Rubella IgG</td>\n",
       "      <td>None</td>\n",
       "      <td>Negative Control Measure</td>\n",
       "      <td>DRC-I-001</td>\n",
       "      <td>Blood</td>\n",
       "      <td>Yes</td>\n",
       "      <td>Power Outage</td>\n",
       "      <td>G1</td>\n",
       "      <td>P1</td>\n",
       "      <td>2017-08-20</td>\n",
       "      <td>Kinshasa</td>\n",
       "      <td>2 RV IgG + 2 RV IgM</td>\n",
       "    </tr>\n",
       "    <tr>\n",
       "      <th>1</th>\n",
       "      <td>MR Box DRC 2</td>\n",
       "      <td>Alex</td>\n",
       "      <td>Printed</td>\n",
       "      <td>Rubella IgM</td>\n",
       "      <td>1 (Negative)</td>\n",
       "      <td>Sample Measure 1</td>\n",
       "      <td>DRC-I-002</td>\n",
       "      <td>Standard</td>\n",
       "      <td>No</td>\n",
       "      <td>Device Failed</td>\n",
       "      <td>G2</td>\n",
       "      <td>P2</td>\n",
       "      <td>2017-08-21</td>\n",
       "      <td>??</td>\n",
       "      <td>2 MV IgG + 2 MV IgM</td>\n",
       "    </tr>\n",
       "    <tr>\n",
       "      <th>2</th>\n",
       "      <td>MR Box DRC 3</td>\n",
       "      <td>Ryan</td>\n",
       "      <td>Roll Coated</td>\n",
       "      <td>Measles IgG</td>\n",
       "      <td>1 (Positive)</td>\n",
       "      <td>Sample Measure 2</td>\n",
       "      <td>DRC-I-003</td>\n",
       "      <td>Serum</td>\n",
       "      <td>NaN</td>\n",
       "      <td>Broken Electrode</td>\n",
       "      <td>G3</td>\n",
       "      <td>P3</td>\n",
       "      <td>2017-08-22</td>\n",
       "      <td>???</td>\n",
       "      <td>2 RV IgG + 2 MV IgG</td>\n",
       "    </tr>\n",
       "  </tbody>\n",
       "</table>\n",
       "</div>"
      ],
      "text/plain": [
       "         Box ID Operator  Device Type      Analyte     Standards  \\\n",
       "0  MR Box DRC 1   Julian        Glass  Rubella IgG          None   \n",
       "1  MR Box DRC 2     Alex      Printed  Rubella IgM  1 (Negative)   \n",
       "2  MR Box DRC 3     Ryan  Roll Coated  Measles IgG  1 (Positive)   \n",
       "\n",
       "            Sample ID Label  Sample ID Sample Type Accepted?  \\\n",
       "0  Negative Control Measure  DRC-I-001       Blood       Yes   \n",
       "1          Sample Measure 1  DRC-I-002    Standard        No   \n",
       "2          Sample Measure 2  DRC-I-003       Serum       NaN   \n",
       "\n",
       "    Device Problems Device ID Glass Device ID Printed       Date  Location  \\\n",
       "0      Power Outage              G1                P1 2017-08-20  Kinshasa   \n",
       "1     Device Failed              G2                P2 2017-08-21        ??   \n",
       "2  Broken Electrode              G3                P3 2017-08-22       ???   \n",
       "\n",
       "           Multiplexed  \n",
       "0  2 RV IgG + 2 RV IgM  \n",
       "1  2 MV IgG + 2 MV IgM  \n",
       "2  2 RV IgG + 2 MV IgG  "
      ]
     },
     "execution_count": 96,
     "metadata": {},
     "output_type": "execute_result"
    }
   ],
   "source": [
    "template_path = ph.path(r'C:\\Users\\chris\\Documents\\GitHub\\plugins\\microdrop.mr-box-plugin\\DRC Data Collection .xlsm')\n",
    "df_template = pd.read_excel(template_path, sheetname='Field values')\n",
    "df_template.head(3)"
   ]
  },
  {
   "cell_type": "code",
   "execution_count": 101,
   "metadata": {
    "ExecuteTime": {
     "end_time": "2017-08-19T19:17:57.256000Z",
     "start_time": "2017-08-19T19:17:57.250000Z"
    }
   },
   "outputs": [
    {
     "data": {
      "text/plain": [
       "'\"Kinshasa,??,???,?\"'"
      ]
     },
     "execution_count": 101,
     "metadata": {},
     "output_type": "execute_result"
    }
   ],
   "source": [
    "'\"{}\"'.format(','.join(df_field_values['Location'].dropna().astype(str)))"
   ]
  },
  {
   "cell_type": "code",
   "execution_count": 142,
   "metadata": {
    "ExecuteTime": {
     "end_time": "2017-08-19T20:37:51.431000Z",
     "start_time": "2017-08-19T20:37:51.427000Z"
    }
   },
   "outputs": [],
   "source": [
    "cell_i = cell_map['Device ID']['value']"
   ]
  },
  {
   "cell_type": "code",
   "execution_count": 144,
   "metadata": {
    "ExecuteTime": {
     "end_time": "2017-08-19T20:38:24.827000Z",
     "start_time": "2017-08-19T20:38:24.822000Z"
    }
   },
   "outputs": [
    {
     "data": {
      "text/plain": [
       "'D5'"
      ]
     },
     "execution_count": 144,
     "metadata": {},
     "output_type": "execute_result"
    }
   ],
   "source": [
    "cell_i.coordinate"
   ]
  },
  {
   "cell_type": "code",
   "execution_count": 182,
   "metadata": {
    "ExecuteTime": {
     "end_time": "2017-08-20T00:24:00.562000Z",
     "start_time": "2017-08-20T00:24:00.555000Z"
    }
   },
   "outputs": [
    {
     "data": {
      "text/plain": [
       "<openpyxl.worksheet.datavalidation.DataValidation object>\n",
       "Parameters:\n",
       "showErrorMessage=True, operator=None, prompt='Please select Multiplexed', imeMode=None, errorStyle=None, showDropDown=None, showInputMessage=True, type='list', allowBlank=False, promptTitle=None, error=None, errorTitle=None, sqref='D6', formula1=u'\"2 RV IgG + 2 RV IgM,2 MV IgG + 2 MV IgM,2 RV IgG + 2 MV IgG,2 RV IgM + 2 MV IgM\"', formula2=None"
      ]
     },
     "execution_count": 182,
     "metadata": {},
     "output_type": "execute_result"
    }
   ],
   "source": [
    "validator_i.showErrorMessage"
   ]
  },
  {
   "cell_type": "code",
   "execution_count": 183,
   "metadata": {
    "ExecuteTime": {
     "end_time": "2017-08-20T00:25:02.938000Z",
     "start_time": "2017-08-20T00:24:59.962000Z"
    },
    "scrolled": false
   },
   "outputs": [
    {
     "name": "stdout",
     "output_type": "stream",
     "text": [
      "Box ID <openpyxl.worksheet.datavalidation.DataValidation object>\n",
      "Parameters:\n",
      "showErrorMessage=False, operator=None, prompt='Please select Box ID', imeMode=None, errorStyle=None, showDropDown=None, showInputMessage=True, type='list', allowBlank=False, promptTitle=None, error=None, errorTitle=None, sqref='B3', formula1=u'\"MR Box DRC 1,MR Box DRC 2,MR Box DRC 3,MR Box DRC 4\"', formula2=None\n",
      "Operator <openpyxl.worksheet.datavalidation.DataValidation object>\n",
      "Parameters:\n",
      "showErrorMessage=False, operator=None, prompt='Please select Operator', imeMode=None, errorStyle=None, showDropDown=None, showInputMessage=True, type='list', allowBlank=False, promptTitle=None, error=None, errorTitle=None, sqref='B4', formula1=u'\"Julian,Alex,Ryan,Richard,Tanya,Chris,Guest\"', formula2=None\n",
      "Device Type <openpyxl.worksheet.datavalidation.DataValidation object>\n",
      "Parameters:\n",
      "showErrorMessage=False, operator=None, prompt='Please select Device Type', imeMode=None, errorStyle=None, showDropDown=None, showInputMessage=True, type='list', allowBlank=False, promptTitle=None, error=None, errorTitle=None, sqref='B5', formula1=u'\"Glass,Printed,Roll Coated\"', formula2=None\n",
      "Analyte <openpyxl.worksheet.datavalidation.DataValidation object>\n",
      "Parameters:\n",
      "showErrorMessage=False, operator=None, prompt='Please select Analyte', imeMode=None, errorStyle=None, showDropDown=None, showInputMessage=True, type='list', allowBlank=False, promptTitle=None, error=None, errorTitle=None, sqref='B6', formula1=u'\"Rubella IgG,Rubella IgM,Measles IgG,Measles IgM,Mulitplexed\"', formula2=None\n",
      "Standards <openpyxl.worksheet.datavalidation.DataValidation object>\n",
      "Parameters:\n",
      "showErrorMessage=False, operator=None, prompt='Please select Standards', imeMode=None, errorStyle=None, showDropDown=None, showInputMessage=True, type='list', allowBlank=False, promptTitle=None, error=None, errorTitle=None, sqref='B7', formula1=u'\"None,1 (Negative),1 (Positive),2 (Negative + Positive)\"', formula2=None\n",
      "Location <openpyxl.worksheet.datavalidation.DataValidation object>\n",
      "Parameters:\n",
      "showErrorMessage=False, operator=None, prompt='Please select Location', imeMode=None, errorStyle=None, showDropDown=None, showInputMessage=True, type='list', allowBlank=False, promptTitle=None, error=None, errorTitle=None, sqref='B2', formula1=u'\"Kinshasa\"', formula2=None\n",
      "Multiplexed <openpyxl.worksheet.datavalidation.DataValidation object>\n",
      "Parameters:\n",
      "showErrorMessage=False, operator=None, prompt='Please select Multiplexed', imeMode=None, errorStyle=None, showDropDown=None, showInputMessage=True, type='list', allowBlank=False, promptTitle=None, error=None, errorTitle=None, sqref='D6', formula1=u'\"2 RV IgG + 2 RV IgM,2 MV IgG + 2 MV IgM,2 RV IgG + 2 MV IgG,2 RV IgM + 2 MV IgM\"', formula2=None\n"
     ]
    },
    {
     "data": {
      "text/plain": [
       "<Cell Sheet.B6>"
      ]
     },
     "execution_count": 183,
     "metadata": {},
     "output_type": "execute_result"
    }
   ],
   "source": [
    "import datetime as dt\n",
    "import types\n",
    "\n",
    "import path_helpers as ph\n",
    "import openpyxl as ox\n",
    "import openpyxl.worksheet.datavalidation\n",
    "\n",
    "# Path to the template file containing entry choices for fields.\n",
    "template_path = ph.path(r'C:\\Users\\chris\\Documents\\GitHub\\plugins\\microdrop.mr-box-plugin\\DRC Data Collection.xlsm')\n",
    "# Read field values from Excel file.\n",
    "df_field_values = pd.read_excel(input_path, sheetname='Field values')\n",
    "\n",
    "# Create the workbook and worksheet we'll be working with\n",
    "wb = ox.Workbook()\n",
    "ws = wb.active\n",
    "\n",
    "rows = [['Date'],\n",
    "        ['Location'],\n",
    "        ['Box ID'],\n",
    "        ['Operator'],\n",
    "        ['Device Type', None, 'Device ID'],\n",
    "        ['Analyte', None, 'Multiplexed'],\n",
    "        ['Standards']]\n",
    "\n",
    "samples_headers = ['Step ID Label', 'Sample ID', 'Sample Type', 'Accepted?',\n",
    "                   'What Went Wrong? (Only if not accepted)', 'Notes']\n",
    "\n",
    "date = ox.styles.NamedStyle(name='date', number_format='yyyy-mmm-dd')\n",
    "\n",
    "styles = {'Date': date}\n",
    "\n",
    "# validators = {}\n",
    "validators = {'Date': dict(type='date',\n",
    "                           prompt='Please enter date of test (YYYY-MM-DD)',\n",
    "                           error='Please enter date in format: YYYY-MM-DD',\n",
    "                           errorTitle='Invalid date format',\n",
    "                           allow_blank=False),\n",
    "              'Device ID':\n",
    "              dict(type='custom',\n",
    "                   formula1=u'NOT(ISBLANK({cell}))',\n",
    "                   prompt='Please enter device ID ',\n",
    "                   error='Please enter device ID\\n'\n",
    "                   'Note: Cannot be empty',\n",
    "                   errorTitle='Invalid Device ID')\n",
    "}\n",
    "\n",
    "header_font = ox.styles.Font(bold=True)\n",
    "thin_border = ox.styles.Side(border_style='thin')\n",
    "header_border = ox.styles.Border(*(4 * [thin_border]))\n",
    "\n",
    "for i in (2, 4):\n",
    "    ws.column_dimensions[ox.utils.get_column_letter(i)].width = 18\n",
    "\n",
    "cell_map = {}\n",
    "\n",
    "for i, record_i in enumerate(rows):\n",
    "    for j, value_ij in enumerate(record_i):\n",
    "        row_i = i + 1\n",
    "        column_j = j + 1\n",
    "        column_letter_j = ox.utils.get_column_letter(column_j)\n",
    "        \n",
    "        if value_ij is None:\n",
    "            continue\n",
    "        cell_ij = ws.cell(row=row_i, column=column_j, value=value_ij)\n",
    "        cell_ij.font = header_font\n",
    "        cell_ij.border = header_border\n",
    "        ws.column_dimensions[column_letter_j].width =\\\n",
    "            max(len(value_ij), ws.column_dimensions[column_letter_j].width)\n",
    "        cell_map[value_ij] = {'label': cell_ij,\n",
    "                              'value': ws.cell(row=row_i,\n",
    "                                               column=column_j + 1)}\n",
    "        \n",
    "samples_header_row = i + 2\n",
    "\n",
    "for j, value_ij in enumerate(samples_headers):\n",
    "    row_i = samples_header_row + 1\n",
    "    column_j = j + 1\n",
    "    column_letter_j = ox.utils.get_column_letter(column_j)\n",
    "\n",
    "    if value_ij is None:\n",
    "        continue\n",
    "    cell_ij = ws.cell(row=row_i, column=column_j, value=value_ij)\n",
    "    cell_ij.font = header_font\n",
    "    cell_ij.border = header_border\n",
    "    ws.column_dimensions[column_letter_j].width =\\\n",
    "        max(len(value_ij), ws.column_dimensions[column_letter_j].width)\n",
    "    \n",
    "        \n",
    "cell_map['Date']['value'].value = dt.datetime.utcnow().date()\n",
    "\n",
    "for name_i, validator_i in validators.iteritems():\n",
    "    if isinstance(validator_i, dict) and 'type' in validator_i:\n",
    "        cell_i = cell_map[name_i]['value']\n",
    "        kwargs_i = {k: v.format(cell=cell_i.coordinate) if isinstance(v, types.StringTypes) else v\n",
    "                    for k, v in validator_i.iteritems()}\n",
    "        validator_i = ox.worksheet.datavalidation.DataValidation(**kwargs_i)\n",
    "    ws.add_data_validation(validator_i)\n",
    "    cell_i = cell_map[name_i]['value']\n",
    "    validator_i.add(cell_i)\n",
    "\n",
    "for name_i in df_field_values:\n",
    "    if name_i in cell_map and (name_i not in validators or\n",
    "                               ('type' not in validators[name_i] and\n",
    "                               'formula1' not in validators[name_i])):\n",
    "        base_validator_i =  dict(prompt='Please select {name}'\n",
    "                                 .format(name=name_i),\n",
    "                                 showErrorMessage=False,\n",
    "#                                  error='Please select a {name} from the '\n",
    "#                                  'dropdown'.format(name=name_i),\n",
    "#                                  errorTitle='Invalid {name}'\n",
    "#                                  .format(name=name_i),\n",
    "                                 allow_blank=False)\n",
    "        validator_i = base_validator_i.copy()\n",
    "        validator_i.update(validators.get(name_i, {}))\n",
    "        \n",
    "        choices_i = df_field_values[name_i].dropna().astype(str).tolist()\n",
    "        \n",
    "        if validator_i.pop('allow_other', False):\n",
    "            validator_i['error'] += (' or select \"Other...\" and enter '\n",
    "                                     '{} in cell to the right'\n",
    "                                     .format(name_i))\n",
    "            choices_i += ['Other...']\n",
    "        validator_i['type'] = 'list'\n",
    "        validator_i['formula1'] = '\"{}\"'.format(','.join(choices_i))\n",
    "        validator_i = (ox.worksheet.datavalidation\n",
    "                       .DataValidation(**validator_i))\n",
    "        ws.add_data_validation(validator_i)\n",
    "        cell_i = cell_map[name_i]['value']\n",
    "        validator_i.add(cell_i)\n",
    "        print name_i, validator_i\n",
    "            \n",
    "for name_i, cells_i in cell_map.iteritems():\n",
    "    if name_i in styles:\n",
    "        cells_i['value'].style = styles[name_i]\n",
    "\n",
    "\n",
    "# # Create a data-validation object with list validation\n",
    "# dv = ox.worksheet.datavalidation.DataValidation(type=\"list\",\n",
    "#                                                 formula1='\"Dog,Cat,Bat\"',\n",
    "#                                                 allow_blank=True)\n",
    "\n",
    "# # Optionally set a custom error message\n",
    "# dv.error ='Your entry is not in the list'\n",
    "# dv.errorTitle = 'Invalid Entry'\n",
    "\n",
    "# # Optionally set a custom prompt message\n",
    "# dv.prompt = 'Please select from the list'\n",
    "# dv.promptTitle = 'List Selection'\n",
    "\n",
    "# # Add the data-validation object to the worksheet\n",
    "# ws.add_data_validation(dv)\n",
    "\n",
    "# # Create some cells, and add them to the data-validation object\n",
    "# c1 = ws[\"A1\"]\n",
    "# c1.value = \"Dog\"\n",
    "# dv.add(c1)\n",
    "# c2 = ws[\"A2\"]\n",
    "# c2.value = \"An invalid value\"\n",
    "# dv.add(c2)\n",
    "\n",
    "# # Or, apply the validation to a range of cells\n",
    "# dv.ranges.append('B1:B1048576')\n",
    "\n",
    "# # Write the sheet out.  If you now open the sheet in Excel, you'll find that\n",
    "# # the cells have data-validation applied.\n",
    "\n",
    "test_path = ph.path('test.xlsx')\n",
    "wb.save(test_path)\n",
    "test_path.launch()\n",
    "\n",
    "cell_map['Analyte']['value']"
   ]
  },
  {
   "cell_type": "code",
   "execution_count": 42,
   "metadata": {
    "ExecuteTime": {
     "end_time": "2017-08-19T16:50:38.610000Z",
     "start_time": "2017-08-19T16:50:38.605000Z"
    }
   },
   "outputs": [],
   "source": []
  },
  {
   "cell_type": "code",
   "execution_count": 39,
   "metadata": {
    "ExecuteTime": {
     "end_time": "2017-08-19T16:50:14.383000Z",
     "start_time": "2017-08-19T16:50:14.378000Z"
    }
   },
   "outputs": [
    {
     "data": {
      "text/plain": [
       "[]"
      ]
     },
     "execution_count": 39,
     "metadata": {},
     "output_type": "execute_result"
    }
   ],
   "source": [
    "template_workbook.sheetnames"
   ]
  },
  {
   "cell_type": "code",
   "execution_count": 31,
   "metadata": {
    "ExecuteTime": {
     "end_time": "2017-08-19T16:41:39.246000Z",
     "start_time": "2017-08-19T16:41:39.242000Z"
    },
    "collapsed": true
   },
   "outputs": [],
   "source": [
    "import pandas as pd"
   ]
  },
  {
   "cell_type": "code",
   "execution_count": 46,
   "metadata": {
    "ExecuteTime": {
     "end_time": "2017-08-19T16:50:55.163000Z",
     "start_time": "2017-08-19T16:50:55.094000Z"
    }
   },
   "outputs": [
    {
     "data": {
      "text/html": [
       "<div>\n",
       "<style>\n",
       "    .dataframe thead tr:only-child th {\n",
       "        text-align: right;\n",
       "    }\n",
       "\n",
       "    .dataframe thead th {\n",
       "        text-align: left;\n",
       "    }\n",
       "\n",
       "    .dataframe tbody tr th {\n",
       "        vertical-align: top;\n",
       "    }\n",
       "</style>\n",
       "<table border=\"1\" class=\"dataframe\">\n",
       "  <thead>\n",
       "    <tr style=\"text-align: right;\">\n",
       "      <th></th>\n",
       "      <th>Box ID</th>\n",
       "      <th>Operator</th>\n",
       "      <th>Device Type</th>\n",
       "      <th>Analyte</th>\n",
       "      <th>Standards</th>\n",
       "      <th>Sample ID Label</th>\n",
       "      <th>Sample ID</th>\n",
       "      <th>Sample Type</th>\n",
       "      <th>Accepted?</th>\n",
       "      <th>Device Problems</th>\n",
       "      <th>Device ID Glass</th>\n",
       "      <th>Device ID Printed</th>\n",
       "      <th>Date</th>\n",
       "      <th>Location</th>\n",
       "      <th>Multiplexed</th>\n",
       "    </tr>\n",
       "  </thead>\n",
       "  <tbody>\n",
       "    <tr>\n",
       "      <th>0</th>\n",
       "      <td>MR Box DRC 1</td>\n",
       "      <td>Julian</td>\n",
       "      <td>Glass</td>\n",
       "      <td>Rubella IgG</td>\n",
       "      <td>None</td>\n",
       "      <td>Negative Control Measure</td>\n",
       "      <td>DRC-I-001</td>\n",
       "      <td>Blood</td>\n",
       "      <td>Yes</td>\n",
       "      <td>Power Outage</td>\n",
       "      <td>G1</td>\n",
       "      <td>P1</td>\n",
       "      <td>2017-08-20</td>\n",
       "      <td>Kinshasa</td>\n",
       "      <td>2 RV IgG + 2 RV IgM</td>\n",
       "    </tr>\n",
       "    <tr>\n",
       "      <th>1</th>\n",
       "      <td>MR Box DRC 2</td>\n",
       "      <td>Alex</td>\n",
       "      <td>Printed</td>\n",
       "      <td>Rubella IgM</td>\n",
       "      <td>1 (Negative)</td>\n",
       "      <td>Sample Measure 1</td>\n",
       "      <td>DRC-I-002</td>\n",
       "      <td>Standard</td>\n",
       "      <td>No</td>\n",
       "      <td>Device Failed</td>\n",
       "      <td>G2</td>\n",
       "      <td>P2</td>\n",
       "      <td>2017-08-21</td>\n",
       "      <td>??</td>\n",
       "      <td>2 MV IgG + 2 MV IgM</td>\n",
       "    </tr>\n",
       "    <tr>\n",
       "      <th>2</th>\n",
       "      <td>MR Box DRC 3</td>\n",
       "      <td>Ryan</td>\n",
       "      <td>Roll Coated</td>\n",
       "      <td>Measles IgG</td>\n",
       "      <td>1 (Positive)</td>\n",
       "      <td>Sample Measure 2</td>\n",
       "      <td>DRC-I-003</td>\n",
       "      <td>Serum</td>\n",
       "      <td>NaN</td>\n",
       "      <td>Broken Electrode</td>\n",
       "      <td>G3</td>\n",
       "      <td>P3</td>\n",
       "      <td>2017-08-22</td>\n",
       "      <td>???</td>\n",
       "      <td>2 RV IgG + 2 MV IgG</td>\n",
       "    </tr>\n",
       "  </tbody>\n",
       "</table>\n",
       "</div>"
      ],
      "text/plain": [
       "         Box ID Operator  Device Type      Analyte     Standards  \\\n",
       "0  MR Box DRC 1   Julian        Glass  Rubella IgG          None   \n",
       "1  MR Box DRC 2     Alex      Printed  Rubella IgM  1 (Negative)   \n",
       "2  MR Box DRC 3     Ryan  Roll Coated  Measles IgG  1 (Positive)   \n",
       "\n",
       "            Sample ID Label  Sample ID Sample Type Accepted?  \\\n",
       "0  Negative Control Measure  DRC-I-001       Blood       Yes   \n",
       "1          Sample Measure 1  DRC-I-002    Standard        No   \n",
       "2          Sample Measure 2  DRC-I-003       Serum       NaN   \n",
       "\n",
       "    Device Problems Device ID Glass Device ID Printed       Date  Location  \\\n",
       "0      Power Outage              G1                P1 2017-08-20  Kinshasa   \n",
       "1     Device Failed              G2                P2 2017-08-21        ??   \n",
       "2  Broken Electrode              G3                P3 2017-08-22       ???   \n",
       "\n",
       "           Multiplexed  \n",
       "0  2 RV IgG + 2 RV IgM  \n",
       "1  2 MV IgG + 2 MV IgM  \n",
       "2  2 RV IgG + 2 MV IgG  "
      ]
     },
     "execution_count": 46,
     "metadata": {},
     "output_type": "execute_result"
    }
   ],
   "source": [
    "# Read field values from Excel file.\n",
    "df_field_values = pd.read_excel(input_path, sheetname='Field values')\n",
    "df_field_values.head(3)"
   ]
  },
  {
   "cell_type": "code",
   "execution_count": 9,
   "metadata": {
    "ExecuteTime": {
     "end_time": "2017-08-19T16:26:50.975000Z",
     "start_time": "2017-08-19T16:26:50.934000Z"
    },
    "collapsed": true
   },
   "outputs": [],
   "source": []
  },
  {
   "cell_type": "code",
   "execution_count": 44,
   "metadata": {
    "ExecuteTime": {
     "end_time": "2017-08-19T15:29:09.167000Z",
     "start_time": "2017-08-19T15:29:09.069000Z"
    },
    "collapsed": true
   },
   "outputs": [],
   "source": [
    "df = pd.read_excel(r'C:/Users/chris/Documents/GitHub/plugins/microdrop.mr-box-plugin/DRC Data Collection .xlsm')"
   ]
  },
  {
   "cell_type": "code",
   "execution_count": 47,
   "metadata": {
    "ExecuteTime": {
     "end_time": "2017-08-19T15:32:45.400000Z",
     "start_time": "2017-08-19T15:32:45.396000Z"
    },
    "collapsed": true
   },
   "outputs": [],
   "source": [
    "import xlsxwriter\n",
    "import path_helpers as ph"
   ]
  },
  {
   "cell_type": "code",
   "execution_count": 29,
   "metadata": {
    "ExecuteTime": {
     "end_time": "2017-08-19T16:41:15.617000Z",
     "start_time": "2017-08-19T16:41:15.613000Z"
    },
    "collapsed": true
   },
   "outputs": [],
   "source": [
    "# workbook = xlsxwriter.Workbook(input_path)"
   ]
  },
  {
   "cell_type": "code",
   "execution_count": 74,
   "metadata": {
    "ExecuteTime": {
     "end_time": "2017-08-19T15:57:17.330000Z",
     "start_time": "2017-08-19T15:57:17.220000Z"
    },
    "collapsed": true
   },
   "outputs": [],
   "source": [
    "import openpyxl as ox\n",
    "\n",
    "input_book = ox.load_workbook(input_path)\n",
    "output_path = input_path.parent.joinpath('{}-output.xlsx'\n",
    "                                         .format(input_path.namebase))\n",
    "input_path.copy(output_path)\n",
    "output_book = ox.load_workbook(output_path)"
   ]
  },
  {
   "cell_type": "code",
   "execution_count": 75,
   "metadata": {
    "ExecuteTime": {
     "end_time": "2017-08-19T15:58:09.969000Z",
     "start_time": "2017-08-19T15:58:09.921000Z"
    },
    "collapsed": true
   },
   "outputs": [],
   "source": [
    "output_book.save(output_path)"
   ]
  },
  {
   "cell_type": "code",
   "execution_count": 76,
   "metadata": {
    "ExecuteTime": {
     "end_time": "2017-08-19T15:58:19.369000Z",
     "start_time": "2017-08-19T15:58:15.814000Z"
    },
    "collapsed": true
   },
   "outputs": [],
   "source": [
    "output_path.launch()"
   ]
  },
  {
   "cell_type": "code",
   "execution_count": 73,
   "metadata": {
    "ExecuteTime": {
     "end_time": "2017-08-19T15:54:52.501000Z",
     "start_time": "2017-08-19T15:54:47.910000Z"
    },
    "collapsed": true
   },
   "outputs": [],
   "source": [
    "input_path.launch()"
   ]
  },
  {
   "cell_type": "code",
   "execution_count": 58,
   "metadata": {
    "ExecuteTime": {
     "end_time": "2017-08-19T15:47:16.329000Z",
     "start_time": "2017-08-19T15:47:16.300000Z"
    },
    "collapsed": true
   },
   "outputs": [],
   "source": [
    "sheet_i = book.worksheets[0]"
   ]
  },
  {
   "cell_type": "code",
   "execution_count": 72,
   "metadata": {
    "ExecuteTime": {
     "end_time": "2017-08-19T15:52:18.079000Z",
     "start_time": "2017-08-19T15:52:18.030000Z"
    }
   },
   "outputs": [
    {
     "ename": "ValueError",
     "evalue": "Cannot copy between worksheets from different workbooks",
     "output_type": "error",
     "traceback": [
      "\u001b[1;31m---------------------------------------------------------------------------\u001b[0m",
      "\u001b[1;31mValueError\u001b[0m                                Traceback (most recent call last)",
      "\u001b[1;32m<ipython-input-72-9a92e16a3ac5>\u001b[0m in \u001b[0;36m<module>\u001b[1;34m()\u001b[0m\n\u001b[1;32m----> 1\u001b[1;33m \u001b[0moutput_book\u001b[0m\u001b[1;33m.\u001b[0m\u001b[0mcopy_worksheet\u001b[0m\u001b[1;33m(\u001b[0m\u001b[0minput_book\u001b[0m\u001b[1;33m.\u001b[0m\u001b[0mworksheets\u001b[0m\u001b[1;33m[\u001b[0m\u001b[1;36m0\u001b[0m\u001b[1;33m]\u001b[0m\u001b[1;33m)\u001b[0m\u001b[1;33m\u001b[0m\u001b[0m\n\u001b[0m",
      "\u001b[1;32mC:\\Users\\chris\\Miniconda2\\envs\\dropbot.py\\lib\\site-packages\\openpyxl\\workbook\\workbook.pyc\u001b[0m in \u001b[0;36mcopy_worksheet\u001b[1;34m(self, from_worksheet)\u001b[0m\n\u001b[0;32m    361\u001b[0m         \u001b[0mnew_title\u001b[0m \u001b[1;33m=\u001b[0m \u001b[1;34m\"{0} Copy\"\u001b[0m\u001b[1;33m.\u001b[0m\u001b[0mformat\u001b[0m\u001b[1;33m(\u001b[0m\u001b[0mfrom_worksheet\u001b[0m\u001b[1;33m.\u001b[0m\u001b[0mtitle\u001b[0m\u001b[1;33m)\u001b[0m\u001b[1;33m\u001b[0m\u001b[0m\n\u001b[0;32m    362\u001b[0m         \u001b[0mto_worksheet\u001b[0m \u001b[1;33m=\u001b[0m \u001b[0mself\u001b[0m\u001b[1;33m.\u001b[0m\u001b[0mcreate_sheet\u001b[0m\u001b[1;33m(\u001b[0m\u001b[0mtitle\u001b[0m\u001b[1;33m=\u001b[0m\u001b[0mnew_title\u001b[0m\u001b[1;33m)\u001b[0m\u001b[1;33m\u001b[0m\u001b[0m\n\u001b[1;32m--> 363\u001b[1;33m         \u001b[0mcp\u001b[0m \u001b[1;33m=\u001b[0m \u001b[0mWorksheetCopy\u001b[0m\u001b[1;33m(\u001b[0m\u001b[0msource_worksheet\u001b[0m\u001b[1;33m=\u001b[0m\u001b[0mfrom_worksheet\u001b[0m\u001b[1;33m,\u001b[0m \u001b[0mtarget_worksheet\u001b[0m\u001b[1;33m=\u001b[0m\u001b[0mto_worksheet\u001b[0m\u001b[1;33m)\u001b[0m\u001b[1;33m\u001b[0m\u001b[0m\n\u001b[0m\u001b[0;32m    364\u001b[0m         \u001b[0mcp\u001b[0m\u001b[1;33m.\u001b[0m\u001b[0mcopy_worksheet\u001b[0m\u001b[1;33m(\u001b[0m\u001b[1;33m)\u001b[0m\u001b[1;33m\u001b[0m\u001b[0m\n\u001b[0;32m    365\u001b[0m         \u001b[1;32mreturn\u001b[0m \u001b[0mto_worksheet\u001b[0m\u001b[1;33m\u001b[0m\u001b[0m\n",
      "\u001b[1;32mC:\\Users\\chris\\Miniconda2\\envs\\dropbot.py\\lib\\site-packages\\openpyxl\\worksheet\\copier.pyc\u001b[0m in \u001b[0;36m__init__\u001b[1;34m(self, source_worksheet, target_worksheet)\u001b[0m\n\u001b[0;32m     19\u001b[0m         \u001b[0mself\u001b[0m\u001b[1;33m.\u001b[0m\u001b[0msource\u001b[0m \u001b[1;33m=\u001b[0m \u001b[0msource_worksheet\u001b[0m\u001b[1;33m\u001b[0m\u001b[0m\n\u001b[0;32m     20\u001b[0m         \u001b[0mself\u001b[0m\u001b[1;33m.\u001b[0m\u001b[0mtarget\u001b[0m \u001b[1;33m=\u001b[0m \u001b[0mtarget_worksheet\u001b[0m\u001b[1;33m\u001b[0m\u001b[0m\n\u001b[1;32m---> 21\u001b[1;33m         \u001b[0mself\u001b[0m\u001b[1;33m.\u001b[0m\u001b[0m_verify_resources\u001b[0m\u001b[1;33m(\u001b[0m\u001b[1;33m)\u001b[0m\u001b[1;33m\u001b[0m\u001b[0m\n\u001b[0m\u001b[0;32m     22\u001b[0m \u001b[1;33m\u001b[0m\u001b[0m\n\u001b[0;32m     23\u001b[0m \u001b[1;33m\u001b[0m\u001b[0m\n",
      "\u001b[1;32mC:\\Users\\chris\\Miniconda2\\envs\\dropbot.py\\lib\\site-packages\\openpyxl\\worksheet\\copier.pyc\u001b[0m in \u001b[0;36m_verify_resources\u001b[1;34m(self)\u001b[0m\n\u001b[0;32m     32\u001b[0m \u001b[1;33m\u001b[0m\u001b[0m\n\u001b[0;32m     33\u001b[0m         \u001b[1;32mif\u001b[0m \u001b[0mself\u001b[0m\u001b[1;33m.\u001b[0m\u001b[0msource\u001b[0m\u001b[1;33m.\u001b[0m\u001b[0mparent\u001b[0m \u001b[1;33m!=\u001b[0m \u001b[0mself\u001b[0m\u001b[1;33m.\u001b[0m\u001b[0mtarget\u001b[0m\u001b[1;33m.\u001b[0m\u001b[0mparent\u001b[0m\u001b[1;33m:\u001b[0m\u001b[1;33m\u001b[0m\u001b[0m\n\u001b[1;32m---> 34\u001b[1;33m             \u001b[1;32mraise\u001b[0m \u001b[0mValueError\u001b[0m\u001b[1;33m(\u001b[0m\u001b[1;34m'Cannot copy between worksheets from different workbooks'\u001b[0m\u001b[1;33m)\u001b[0m\u001b[1;33m\u001b[0m\u001b[0m\n\u001b[0m\u001b[0;32m     35\u001b[0m \u001b[1;33m\u001b[0m\u001b[0m\n\u001b[0;32m     36\u001b[0m \u001b[1;33m\u001b[0m\u001b[0m\n",
      "\u001b[1;31mValueError\u001b[0m: Cannot copy between worksheets from different workbooks"
     ]
    }
   ],
   "source": [
    "output_book.copy_worksheet(input_book.worksheets[0])"
   ]
  },
  {
   "cell_type": "code",
   "execution_count": null,
   "metadata": {
    "collapsed": true
   },
   "outputs": [],
   "source": []
  },
  {
   "cell_type": "code",
   "execution_count": null,
   "metadata": {
    "collapsed": true
   },
   "outputs": [],
   "source": []
  },
  {
   "cell_type": "code",
   "execution_count": 25,
   "metadata": {
    "ExecuteTime": {
     "end_time": "2017-08-19T02:19:46.994000Z",
     "start_time": "2017-08-19T02:19:22.899000Z"
    }
   },
   "outputs": [
    {
     "name": "stderr",
     "output_type": "stream",
     "text": [
      "DEBUG:conda_helpers:Executing command: `call C:\\Users\\chris\\Miniconda2\\envs\\dropbot.py\\Scripts\\activate.bat C:\\Users\\chris\\Miniconda2\\envs\\dropbot.py & conda install --dry-run --json \"numpy <1.11.3\"`\n"
     ]
    },
    {
     "ename": "KeyboardInterrupt",
     "evalue": "",
     "output_type": "error",
     "traceback": [
      "\u001b[1;31m---------------------------------------------------------------------------\u001b[0m",
      "\u001b[1;31mKeyboardInterrupt\u001b[0m                         Traceback (most recent call last)",
      "\u001b[1;32m<ipython-input-25-8c7e20688ff5>\u001b[0m in \u001b[0;36m<module>\u001b[1;34m()\u001b[0m\n\u001b[0;32m     10\u001b[0m install_response = json.loads(ch.conda_exec('install', '--dry-run', '--json',\n\u001b[0;32m     11\u001b[0m                                             \u001b[1;34m'numpy <1.11.3'\u001b[0m\u001b[1;33m,\u001b[0m\u001b[1;33m\u001b[0m\u001b[0m\n\u001b[1;32m---> 12\u001b[1;33m                                             verbose=False))\n\u001b[0m\u001b[0;32m     13\u001b[0m \u001b[1;32mprint\u001b[0m \u001b[0mch\u001b[0m\u001b[1;33m.\u001b[0m\u001b[0mformat_install_info\u001b[0m\u001b[1;33m(\u001b[0m\u001b[1;33m*\u001b[0m\u001b[0mch\u001b[0m\u001b[1;33m.\u001b[0m\u001b[0minstall_info\u001b[0m\u001b[1;33m(\u001b[0m\u001b[0minstall_response\u001b[0m\u001b[1;33m)\u001b[0m\u001b[1;33m)\u001b[0m\u001b[1;33m\u001b[0m\u001b[0m\n",
      "\u001b[1;32mC:\\Users\\chris\\Documents\\GitHub\\conda-helpers\\conda_helpers\\__init__.py\u001b[0m in \u001b[0;36mconda_exec\u001b[1;34m(*args, **kwargs)\u001b[0m\n\u001b[0;32m    355\u001b[0m         \u001b[1;32melif\u001b[0m \u001b[0mverbose\u001b[0m\u001b[1;33m:\u001b[0m\u001b[1;33m\u001b[0m\u001b[0m\n\u001b[0;32m    356\u001b[0m             \u001b[0mostream\u001b[0m\u001b[1;33m.\u001b[0m\u001b[0mwrite\u001b[0m\u001b[1;33m(\u001b[0m\u001b[0mstdout_i\u001b[0m\u001b[1;33m)\u001b[0m\u001b[1;33m\u001b[0m\u001b[0m\n\u001b[1;32m--> 357\u001b[1;33m         \u001b[0mlines\u001b[0m\u001b[1;33m.\u001b[0m\u001b[0mappend\u001b[0m\u001b[1;33m(\u001b[0m\u001b[0mstdout_i\u001b[0m\u001b[1;33m)\u001b[0m\u001b[1;33m\u001b[0m\u001b[0m\n\u001b[0m\u001b[0;32m    358\u001b[0m     \u001b[0mprocess\u001b[0m\u001b[1;33m.\u001b[0m\u001b[0mwait\u001b[0m\u001b[1;33m(\u001b[0m\u001b[1;33m)\u001b[0m\u001b[1;33m\u001b[0m\u001b[0m\n\u001b[0;32m    359\u001b[0m     \u001b[1;32mprint\u001b[0m \u001b[1;33m>>\u001b[0m \u001b[0mostream\u001b[0m\u001b[1;33m,\u001b[0m \u001b[1;34m''\u001b[0m\u001b[1;33m\u001b[0m\u001b[0m\n",
      "\u001b[1;31mKeyboardInterrupt\u001b[0m: "
     ]
    }
   ],
   "source": [
    "import json\n",
    "\n",
    "\n",
    "major_version = 1\n",
    "# install_response = json.loads(ch.conda_exec('install', '--dry-run', '--json',\n",
    "#                                             'microdrop <{}, >={}'\n",
    "#                                             .format(major_version + 1,\n",
    "#                                                     major_version),\n",
    "#                                             verbose=False))\n",
    "install_response = json.loads(ch.conda_exec('install', '--dry-run', '--json',\n",
    "                                            'numpy <1.11.3',\n",
    "                                            verbose=False))\n",
    "print ch.format_install_info(*ch.install_info(install_response))"
   ]
  },
  {
   "cell_type": "code",
   "execution_count": 37,
   "metadata": {
    "ExecuteTime": {
     "end_time": "2017-08-16T22:44:07.467000Z",
     "start_time": "2017-08-16T22:44:07.460000Z"
    }
   },
   "outputs": [
    {
     "data": {
      "text/plain": [
       "<_sre.SRE_Match at 0x55b96b0>"
      ]
     },
     "execution_count": 37,
     "metadata": {},
     "output_type": "execute_result"
    }
   ],
   "source": [
    "import re\n",
    "\n",
    "\n",
    "cre_json_progress = re.compile(r'{\"maxval\":[^,]+,\\s+\"finished\":[^,]+,\\s+\"fetch\":\\s+[^,]+,\\s+\"progress\":[^}]+}')\n",
    "                               \n",
    "val = r'{\"maxval\": 133256, \"finished\": false, \"fetch\": \"microdrop-laun\", \"progress\": 0}'\n",
    "cre_json_progress.search(val)"
   ]
  },
  {
   "cell_type": "code",
   "execution_count": 27,
   "metadata": {
    "ExecuteTime": {
     "end_time": "2017-08-16T20:10:36.903000Z",
     "start_time": "2017-08-16T20:10:36.892000Z"
    }
   },
   "outputs": [
    {
     "data": {
      "text/plain": [
       "{u'actions': {u'LINK': [u'sci-bots::microdrop-launcher-0.7.2-0'],\n",
       "  u'PREFIX': u'C:\\\\Users\\\\chris\\\\Miniconda2\\\\envs\\\\dropbot.py',\n",
       "  u'SYMLINK_CONDA': [u'C:\\\\Users\\\\chris\\\\Miniconda2'],\n",
       "  u'UNLINK': [u'wheeler-microfluidics::microdrop-launcher-0.4-0'],\n",
       "  u'op_order': [u'CHECK_FETCH',\n",
       "   u'RM_FETCHED',\n",
       "   u'FETCH',\n",
       "   u'CHECK_EXTRACT',\n",
       "   u'RM_EXTRACTED',\n",
       "   u'EXTRACT',\n",
       "   u'UNLINK',\n",
       "   u'LINK',\n",
       "   u'SYMLINK_CONDA']},\n",
       " u'success': True}"
      ]
     },
     "execution_count": 27,
     "metadata": {},
     "output_type": "execute_result"
    }
   ],
   "source": [
    "# ch.package_version('microdrop-launcher')\n",
    "\n",
    "json.loads(r'''\n",
    "{\n",
    "  \"actions\": {\n",
    "    \"LINK\": [\n",
    "      \"sci-bots::microdrop-launcher-0.7.2-0\"\n",
    "    ],\n",
    "    \"PREFIX\": \"C:\\\\Users\\\\chris\\\\Miniconda2\\\\envs\\\\dropbot.py\",\n",
    "    \"SYMLINK_CONDA\": [\n",
    "      \"C:\\\\Users\\\\chris\\\\Miniconda2\"\n",
    "    ],\n",
    "    \"UNLINK\": [\n",
    "      \"wheeler-microfluidics::microdrop-launcher-0.4-0\"\n",
    "    ],\n",
    "    \"op_order\": [\n",
    "      \"CHECK_FETCH\",\n",
    "      \"RM_FETCHED\",\n",
    "      \"FETCH\",\n",
    "      \"CHECK_EXTRACT\",\n",
    "      \"RM_EXTRACTED\",\n",
    "      \"EXTRACT\",\n",
    "      \"UNLINK\",\n",
    "      \"LINK\",\n",
    "      \"SYMLINK_CONDA\"\n",
    "    ]\n",
    "  },\n",
    "  \"success\": true\n",
    "}\n",
    "''')"
   ]
  },
  {
   "cell_type": "code",
   "execution_count": 88,
   "metadata": {
    "ExecuteTime": {
     "end_time": "2017-08-18T02:43:54.660000Z",
     "start_time": "2017-08-18T02:43:34.823000Z"
    }
   },
   "outputs": [
    {
     "name": "stderr",
     "output_type": "stream",
     "text": [
      "DEBUG:conda_helpers:Executing command: `call C:\\Users\\chris\\Miniconda2\\envs\\dropbot.py\\Scripts\\activate.bat C:\\Users\\chris\\Miniconda2\\envs\\dropbot.py & conda install -y --json -c microdrop-plugins --no-update-dependencies --dry-run microdrop.step-label-plugin`\n"
     ]
    },
    {
     "name": "stdout",
     "output_type": "stream",
     "text": [
      "\n",
      "[]\n",
      "[['microdrop.step-label-plugin', '2.1', u'microdrop-plugins']]\n"
     ]
    }
   ],
   "source": [
    "plugin_name = 'microdrop.step-label-plugin'\n",
    "install_response =  mpm.api.install(plugin_name,\n",
    "                                    '--no-update-dependencies', '--dry-run',\n",
    "                                    channels=['microdrop-plugins'])\n",
    "dry_unlinked, dry_linked = ch.install_info(install_response, split_version=True)\n",
    "print dry_unlinked\n",
    "print dry_linked"
   ]
  },
  {
   "cell_type": "code",
   "execution_count": 105,
   "metadata": {
    "ExecuteTime": {
     "end_time": "2017-08-18T13:12:44.724000Z",
     "start_time": "2017-08-18T13:12:44.710000Z"
    },
    "collapsed": true
   },
   "outputs": [],
   "source": [
    "import yaml\n",
    "\n",
    "\n",
    "def enabled_plugins():\n",
    "    enabled_plugin_packages = []\n",
    "    for plugin_dir_i in mpm.api.MICRODROP_CONDA_PLUGINS.joinpath('enabled').dirs():\n",
    "        properties_path_i = plugin_dir_i.joinpath('properties.yml')\n",
    "        if properties_path_i.isfile():\n",
    "            try:\n",
    "                with properties_path_i.open('r') as input_:\n",
    "                    properties_i = yaml.load(input_.read())\n",
    "                if 'package_name' in properties_i:\n",
    "                    properties_i['path'] = properties_path_i\n",
    "                    enabled_plugin_packages.append(properties_i)\n",
    "                else:\n",
    "                    print properties_i\n",
    "            except Exception, exception:\n",
    "                print exception\n",
    "                continue\n",
    "    return enabled_plugin_packages"
   ]
  },
  {
   "cell_type": "code",
   "execution_count": 132,
   "metadata": {
    "ExecuteTime": {
     "end_time": "2017-08-18T15:23:09.567000Z",
     "start_time": "2017-08-18T15:23:03.959000Z"
    }
   },
   "outputs": [
    {
     "name": "stderr",
     "output_type": "stream",
     "text": [
      "DEBUG:conda_helpers:Executing command: `call C:\\Users\\chris\\Miniconda2\\envs\\dropbot.py\\Scripts\\activate.bat C:\\Users\\chris\\Miniconda2\\envs\\dropbot.py & conda list --json \"^(foobar|microdrop.mr-box-plugin|microdropa) ?$\"`\n"
     ]
    },
    {
     "name": "stdout",
     "output_type": "stream",
     "text": [
      "\n",
      "The following package(s) could not be found: `foobar`, `microdropa`\n"
     ]
    },
    {
     "data": {
      "text/plain": [
       "[{u'base_url': None,\n",
       "  u'build_number': 0,\n",
       "  u'build_string': u'0',\n",
       "  u'channel': u'microdrop-plugins',\n",
       "  u'dist_name': u'microdrop.mr-box-plugin-0.14-0',\n",
       "  u'name': u'microdrop.mr-box-plugin',\n",
       "  u'platform': None,\n",
       "  u'version': u'0.14',\n",
       "  u'with_features_depends': None}]"
      ]
     },
     "metadata": {},
     "output_type": "display_data"
    }
   ],
   "source": [
    "import types\n",
    "from IPython.display import display\n",
    "\n",
    "enabled_plugins_ = enabled_plugins() * 3\n",
    "package_names = [p_i['package_name'] for p_i in enabled_plugins_]\n",
    "package_names = ['foobar'] + package_names[:1] + ['microdropa']\n",
    "\n",
    "try:\n",
    "    ch.package_version(package_names, verbose=False)\n",
    "except ch.PackageNotFound, exception:\n",
    "    print exception\n",
    "    display(exception.available)"
   ]
  },
  {
   "cell_type": "code",
   "execution_count": 15,
   "metadata": {
    "ExecuteTime": {
     "end_time": "2017-08-18T15:57:14.759000Z",
     "start_time": "2017-08-18T15:57:14.750000Z"
    }
   },
   "outputs": [
    {
     "data": {
      "text/plain": [
       "[{'package_name': 'microdrop.mr-box-plugin',\n",
       "  'path': path(u'C:\\\\Users\\\\chris\\\\Miniconda2\\\\envs\\\\dropbot.py\\\\etc\\\\microdrop\\\\plugins\\\\enabled\\\\mr_box_plugin'),\n",
       "  'plugin_name': 'mr_box_plugin',\n",
       "  'version': '0.14',\n",
       "  'versioneer': {'date': '2017-08-13T16:21:36-0400',\n",
       "   'dirty': False,\n",
       "   'error': None,\n",
       "   'full-revisionid': '4b5e7641857fdacdb3783119d0e25f8778289131',\n",
       "   'version': '0.14'}}]"
      ]
     },
     "execution_count": 15,
     "metadata": {},
     "output_type": "execute_result"
    }
   ],
   "source": [
    "mpm.api.enabled_plugins(installed_only=False)"
   ]
  },
  {
   "cell_type": "code",
   "execution_count": 85,
   "metadata": {
    "ExecuteTime": {
     "end_time": "2017-08-18T01:25:17.843000Z",
     "start_time": "2017-08-18T01:25:17.835000Z"
    }
   },
   "outputs": [
    {
     "data": {
      "text/plain": [
       "[['microdrop.step-label-plugin', '2.1', u'microdrop-plugins']]"
      ]
     },
     "execution_count": 85,
     "metadata": {},
     "output_type": "execute_result"
    }
   ],
   "source": [
    "[(package_i.split('==') if '==' in package_i\n",
    "  else ['-'.join(package_i.split('-')[:-2]), package_i.split('-')[-2]])\n",
    " + [channel_i]\n",
    " for package_i, channel_i in dry_linked]\n",
    "# dry_linked"
   ]
  },
  {
   "cell_type": "code",
   "execution_count": 86,
   "metadata": {
    "ExecuteTime": {
     "end_time": "2017-08-18T02:32:42.511000Z",
     "start_time": "2017-08-18T02:32:42.506000Z"
    }
   },
   "outputs": [
    {
     "data": {
      "text/plain": [
       "[5, 10]"
      ]
     },
     "execution_count": 86,
     "metadata": {},
     "output_type": "execute_result"
    }
   ],
   "source": [
    "map(len, [range(5), range(10)])"
   ]
  },
  {
   "cell_type": "code",
   "execution_count": 53,
   "metadata": {
    "ExecuteTime": {
     "end_time": "2017-08-18T01:04:49.769000Z",
     "start_time": "2017-08-18T01:04:49.739000Z"
    }
   },
   "outputs": [
    {
     "ename": "UnboundLocalError",
     "evalue": "local variable 'invalaid_plugin_packages' referenced before assignment",
     "output_type": "error",
     "traceback": [
      "\u001b[1;31m---------------------------------------------------------------------------\u001b[0m",
      "\u001b[1;31mUnboundLocalError\u001b[0m                         Traceback (most recent call last)",
      "\u001b[1;32m<ipython-input-53-cf2da0c2a9a7>\u001b[0m in \u001b[0;36m<module>\u001b[1;34m()\u001b[0m\n\u001b[1;32m----> 1\u001b[1;33m \u001b[0mmpm\u001b[0m\u001b[1;33m.\u001b[0m\u001b[0mui\u001b[0m\u001b[1;33m.\u001b[0m\u001b[0mgtk\u001b[0m\u001b[1;33m.\u001b[0m\u001b[0mupdate_plugin_dialog\u001b[0m\u001b[1;33m(\u001b[0m\u001b[1;34m'microdrop.step-label-plugin'\u001b[0m\u001b[1;33m,\u001b[0m \u001b[0mupdate_args\u001b[0m\u001b[1;33m=\u001b[0m\u001b[1;33m[\u001b[0m\u001b[1;34m'--dry-run'\u001b[0m\u001b[1;33m]\u001b[0m\u001b[1;33m)\u001b[0m\u001b[1;33m\u001b[0m\u001b[0m\n\u001b[0m",
      "\u001b[1;32mC:\\Users\\chris\\Miniconda2\\envs\\dropbot.py\\lib\\site-packages\\mpm\\ui\\gtk\\__init__.pyc\u001b[0m in \u001b[0;36mupdate_plugin_dialog\u001b[1;34m(package_name, update_args, update_kwargs)\u001b[0m\n\u001b[0;32m     77\u001b[0m         \u001b[1;31m# Invalid plugin packages were specified for update.\u001b[0m\u001b[1;33m\u001b[0m\u001b[1;33m\u001b[0m\u001b[0m\n\u001b[0;32m     78\u001b[0m         \u001b[1;31m# Sort package names for deterministic ordering.\u001b[0m\u001b[1;33m\u001b[0m\u001b[1;33m\u001b[0m\u001b[0m\n\u001b[1;32m---> 79\u001b[1;33m         \u001b[0minvalaid_plugin_packages\u001b[0m \u001b[1;33m=\u001b[0m \u001b[0msorted\u001b[0m\u001b[1;33m(\u001b[0m\u001b[0minvalaid_plugin_packages\u001b[0m\u001b[1;33m)\u001b[0m\u001b[1;33m\u001b[0m\u001b[0m\n\u001b[0m\u001b[0;32m     80\u001b[0m         raise NameError('The following plugin packages are not currently '\n\u001b[0;32m     81\u001b[0m                         \u001b[1;34m'installed: %s'\u001b[0m \u001b[1;33m%\u001b[0m\u001b[1;33m\u001b[0m\u001b[0m\n",
      "\u001b[1;31mUnboundLocalError\u001b[0m: local variable 'invalaid_plugin_packages' referenced before assignment"
     ]
    }
   ],
   "source": [
    "mpm.ui.gtk.update_plugin_dialog('microdrop.step-label-plugin', update_args=['--dry-run'])"
   ]
  },
  {
   "cell_type": "code",
   "execution_count": 129,
   "metadata": {
    "ExecuteTime": {
     "end_time": "2017-08-15T07:50:13.572000Z",
     "start_time": "2017-08-15T07:49:52.075000Z"
    }
   },
   "outputs": [
    {
     "name": "stdout",
     "output_type": "stream",
     "text": [
      "\n",
      "\n"
     ]
    },
    {
     "data": {
      "text/plain": [
       "(False,\n",
       " [['microdrop.droplet-planning-plugin==2.1.post9', u'microdrop-plugins'],\n",
       "  ['microdrop.mr-box-plugin==0.9', u'microdrop-plugins']],\n",
       " [['conda-helpers==0.6.1.0', u'sci-bots'],\n",
       "  ['microdrop-plugin-manager==0.19', u'sci-bots'],\n",
       "  ['microdrop.droplet-planning-plugin==2.2.1', u'microdrop-plugins'],\n",
       "  ['microdrop.mr-box-plugin==0.14', u'microdrop-plugins']])"
      ]
     },
     "execution_count": 129,
     "metadata": {},
     "output_type": "execute_result"
    }
   ],
   "source": [
    "# # XXX Potential MicroDrop update procedure #\n",
    "# \n",
    "#  1. Execute `mpm.api.update` with `--dry-run` argument.\n",
    "#  2. If packages are not up-to-date, notify user of proposed update\n",
    "#     action(s)\n",
    "#  3. If user agrees to proceed with upgrade, execute `mpm.api.update`\n",
    "#     **without** the `--dry-run` argument.\n",
    "\n",
    "package_names = ['microdrop.step-label-plugin', 'microdrop.mr-box-plugin',\n",
    "                 'microdrop.droplet-planning-plugin']\n",
    "update_response = mpm.api.update('--dry-run', package_name=package_names)\n",
    "\n",
    "ch.update_info(update_response)\n",
    "# if not 'actions' in update_response:\n",
    "#     print 'All plugins are up to date.'\n",
    "#     all_installed_versions = json.loads(ch.conda_exec('list', '--json', verbose=False))\n",
    "#     installed_plugin_versions = {version_i['name']: version_i\n",
    "#                                  for version_i in all_installed_versions\n",
    "#                                  if version_i['name'] in package_names}\n",
    "#     for package_name_i in package_names:\n",
    "#         version_info_i = installed_plugin_versions[package_name_i]\n",
    "#         print '{name}: {version} ({channel})'.format(**version_info_i)\n",
    "# else:\n",
    "#     print update_response"
   ]
  },
  {
   "cell_type": "code",
   "execution_count": 125,
   "metadata": {
    "ExecuteTime": {
     "end_time": "2017-08-15T07:45:07.440000Z",
     "start_time": "2017-08-15T07:45:07.434000Z"
    }
   },
   "outputs": [
    {
     "data": {
      "text/plain": [
       "{u'actions': [{u'LINK': [{u'base_url': None,\n",
       "     u'build_number': 0,\n",
       "     u'build_string': u'py27_0',\n",
       "     u'channel': u'sci-bots',\n",
       "     u'dist_name': u'conda-helpers-0.6.1.0-py27_0',\n",
       "     u'name': u'conda-helpers',\n",
       "     u'platform': None,\n",
       "     u'version': u'0.6.1.0',\n",
       "     u'with_features_depends': None},\n",
       "    {u'base_url': None,\n",
       "     u'build_number': 0,\n",
       "     u'build_string': u'0',\n",
       "     u'channel': u'sci-bots',\n",
       "     u'dist_name': u'microdrop-plugin-manager-0.19-0',\n",
       "     u'name': u'microdrop-plugin-manager',\n",
       "     u'platform': None,\n",
       "     u'version': u'0.19',\n",
       "     u'with_features_depends': None}],\n",
       "   u'PREFIX': u'C:\\\\Users\\\\chris\\\\Miniconda2\\\\envs\\\\dropbot.py',\n",
       "   u'SYMLINK_CONDA': [u'C:\\\\Users\\\\chris\\\\Miniconda2'],\n",
       "   u'op_order': [u'CHECK_FETCH',\n",
       "    u'RM_FETCHED',\n",
       "    u'FETCH',\n",
       "    u'CHECK_EXTRACT',\n",
       "    u'RM_EXTRACTED',\n",
       "    u'EXTRACT',\n",
       "    u'UNLINK',\n",
       "    u'LINK',\n",
       "    u'SYMLINK_CONDA']}],\n",
       " u'dry_run': True,\n",
       " u'success': True}"
      ]
     },
     "execution_count": 125,
     "metadata": {},
     "output_type": "execute_result"
    }
   ],
   "source": [
    "update_response"
   ]
  },
  {
   "cell_type": "code",
   "execution_count": null,
   "metadata": {
    "collapsed": true
   },
   "outputs": [],
   "source": []
  },
  {
   "cell_type": "code",
   "execution_count": 82,
   "metadata": {
    "ExecuteTime": {
     "end_time": "2017-08-15T07:16:16.302000Z",
     "start_time": "2017-08-15T07:16:16.297000Z"
    }
   },
   "outputs": [
    {
     "name": "stdout",
     "output_type": "stream",
     "text": [
      "{u'success': True, u'dry_run': True, u'actions': [{u'SYMLINK_CONDA': [u'C:\\\\Users\\\\chris\\\\Miniconda2'], u'op_order': [u'CHECK_FETCH', u'RM_FETCHED', u'FETCH', u'CHECK_EXTRACT', u'RM_EXTRACTED', u'EXTRACT', u'UNLINK', u'LINK', u'SYMLINK_CONDA'], u'PREFIX': u'C:\\\\Users\\\\chris\\\\Miniconda2\\\\envs\\\\dropbot.py', u'UNLINK': [{u'dist_name': u'microdrop.droplet-planning-plugin-2.1.post9-0', u'build_number': 0, u'name': u'microdrop.droplet-planning-plugin', u'build_string': u'0', u'base_url': None, u'with_features_depends': None, u'platform': None, u'version': u'2.1.post9', u'channel': u'microdrop-plugins'}, {u'dist_name': u'microdrop.mr-box-plugin-0.9-0', u'build_number': 0, u'name': u'microdrop.mr-box-plugin', u'build_string': u'0', u'base_url': None, u'with_features_depends': None, u'platform': None, u'version': u'0.9', u'channel': u'microdrop-plugins'}], u'LINK': [{u'dist_name': u'microdrop.droplet-planning-plugin-2.2.1-0', u'build_number': 0, u'name': u'microdrop.droplet-planning-plugin', u'build_string': u'0', u'base_url': None, u'with_features_depends': None, u'platform': None, u'version': u'2.2.1', u'channel': u'microdrop-plugins'}, {u'dist_name': u'microdrop.mr-box-plugin-0.14-0', u'build_number': 0, u'name': u'microdrop.mr-box-plugin', u'build_string': u'0', u'base_url': None, u'with_features_depends': None, u'platform': None, u'version': u'0.14', u'channel': u'microdrop-plugins'}]}]}\n"
     ]
    }
   ],
   "source": [
    "print update_response"
   ]
  },
  {
   "cell_type": "code",
   "execution_count": 25,
   "metadata": {
    "ExecuteTime": {
     "end_time": "2017-08-15T06:49:35.508000Z",
     "start_time": "2017-08-15T06:49:35.503000Z"
    },
    "collapsed": true
   },
   "outputs": [],
   "source": [
    "update_response__uptodate = update_response"
   ]
  },
  {
   "cell_type": "code",
   "execution_count": 22,
   "metadata": {
    "ExecuteTime": {
     "end_time": "2017-08-15T06:47:44.045000Z",
     "start_time": "2017-08-15T06:47:44.041000Z"
    },
    "collapsed": true
   },
   "outputs": [],
   "source": [
    "update_response__updated = update_response"
   ]
  },
  {
   "cell_type": "code",
   "execution_count": 79,
   "metadata": {
    "ExecuteTime": {
     "end_time": "2017-08-15T07:15:25.263000Z",
     "start_time": "2017-08-15T07:15:25.256000Z"
    }
   },
   "outputs": [
    {
     "data": {
      "text/plain": [
       "{u'actions': {u'LINK': [u'wheeler-microfluidics::mr-box-peripheral-board-0.22.0-py27_0',\n",
       "   u'microdrop-plugins::microdrop.droplet-planning-plugin-2.2.1-0',\n",
       "   u'microdrop-plugins::microdrop.mr-box-plugin-0.14-0'],\n",
       "  u'PREFIX': u'C:\\\\Users\\\\chris\\\\Miniconda2\\\\envs\\\\dropbot.py',\n",
       "  u'SYMLINK_CONDA': [u'C:\\\\Users\\\\chris\\\\Miniconda2'],\n",
       "  u'UNLINK': [u'microdrop-plugins::microdrop.droplet-planning-plugin-2.1.post9-0',\n",
       "   u'microdrop-plugins::microdrop.mr-box-plugin-0.9-0',\n",
       "   u'wheeler-microfluidics::mr-box-peripheral-board-0.20.0-py27_0'],\n",
       "  u'op_order': [u'CHECK_FETCH',\n",
       "   u'RM_FETCHED',\n",
       "   u'FETCH',\n",
       "   u'CHECK_EXTRACT',\n",
       "   u'RM_EXTRACTED',\n",
       "   u'EXTRACT',\n",
       "   u'UNLINK',\n",
       "   u'LINK',\n",
       "   u'SYMLINK_CONDA']},\n",
       " u'success': True}"
      ]
     },
     "execution_count": 79,
     "metadata": {},
     "output_type": "execute_result"
    }
   ],
   "source": [
    "update_response = update_response__updated\n",
    "update_response"
   ]
  },
  {
   "cell_type": "code",
   "execution_count": 50,
   "metadata": {
    "ExecuteTime": {
     "end_time": "2017-08-15T07:10:40.110000Z",
     "start_time": "2017-08-15T07:10:40.103000Z"
    }
   },
   "outputs": [
    {
     "data": {
      "text/plain": [
       "{u'LINK': [u'microdrop-plugins::microdrop.droplet-planning-plugin-2.2.1-0',\n",
       "  u'microdrop-plugins::microdrop.mr-box-plugin-0.14-0'],\n",
       " u'PREFIX': u'C:\\\\Users\\\\chris\\\\Miniconda2\\\\envs\\\\dropbot.py',\n",
       " u'SYMLINK_CONDA': [u'C:\\\\Users\\\\chris\\\\Miniconda2'],\n",
       " u'UNLINK': [u'microdrop-plugins::microdrop.droplet-planning-plugin-2.1.post9-0',\n",
       "  u'microdrop-plugins::microdrop.mr-box-plugin-0.9-0'],\n",
       " u'op_order': [u'CHECK_FETCH',\n",
       "  u'RM_FETCHED',\n",
       "  u'FETCH',\n",
       "  u'CHECK_EXTRACT',\n",
       "  u'RM_EXTRACTED',\n",
       "  u'EXTRACT',\n",
       "  u'UNLINK',\n",
       "  u'LINK',\n",
       "  u'SYMLINK_CONDA']}"
      ]
     },
     "execution_count": 50,
     "metadata": {},
     "output_type": "execute_result"
    }
   ],
   "source": [
    "update_response['actions']"
   ]
  },
  {
   "cell_type": "code",
   "execution_count": 103,
   "metadata": {
    "ExecuteTime": {
     "end_time": "2017-08-15T07:18:05.127000Z",
     "start_time": "2017-08-15T07:18:05.105000Z"
    }
   },
   "outputs": [
    {
     "name": "stdout",
     "output_type": "stream",
     "text": [
      "Update from:\n",
      " - `microdrop.droplet-planning-plugin==2.1.post9` (from `microdrop-plugins`)\n",
      " - `microdrop.mr-box-plugin==0.9` (from `microdrop-plugins`)\n",
      "to:\n",
      " - `microdrop.droplet-planning-plugin==2.2.1` (from `microdrop-plugins`)\n",
      " - `microdrop.mr-box-plugin==0.14` (from `microdrop-plugins`)\n"
     ]
    }
   ],
   "source": [
    "dry_run = True\n",
    "if dry_run:\n",
    "    unlink_packages = [['{}=={}'.format(v['name'], v['version']), v['channel']] for v in update_response['actions'][0]['UNLINK']]\n",
    "    link_packages = [['{}=={}'.format(v['name'], v['version']), v['channel']] for v in update_response['actions'][0]['LINK']]\n",
    "else:\n",
    "    unlink_packages = [v.split('::')[::-1]\n",
    "                       for v in update_response['actions']['UNLINK']]\n",
    "    link_packages = [v.split('::')[::-1]\n",
    "                     for v in update_response['actions']['LINK']]\n",
    "\n",
    "sorted_from = sorted(unlink_packages)\n",
    "sorted_to = sorted(link_packages)\n",
    "if dry_run:\n",
    "    print 'Update from:'\n",
    "else:\n",
    "    print 'Updated from:'\n",
    "for package_i, channel_i in sorted_from:\n",
    "    print ' - `{}` (from `{}`)'.format(package_i, channel_i)\n",
    "print 'to:'\n",
    "for package_i, channel_i in sorted_to:\n",
    "    print ' - `{}` (from `{}`)'.format(package_i, channel_i)"
   ]
  },
  {
   "cell_type": "code",
   "execution_count": 17,
   "metadata": {
    "ExecuteTime": {
     "end_time": "2017-08-15T06:42:15.417000Z",
     "start_time": "2017-08-15T06:42:15.414000Z"
    },
    "collapsed": true
   },
   "outputs": [],
   "source": [
    "import json\n",
    "\n",
    "import conda_helpers as ch"
   ]
  },
  {
   "cell_type": "code",
   "execution_count": 20,
   "metadata": {
    "ExecuteTime": {
     "end_time": "2017-08-15T06:44:41.745000Z",
     "start_time": "2017-08-15T06:44:37.606000Z"
    }
   },
   "outputs": [
    {
     "name": "stdout",
     "output_type": "stream",
     "text": [
      "\n"
     ]
    },
    {
     "data": {
      "text/plain": [
       "{u'microdrop.droplet-planning-plugin': {u'base_url': None,\n",
       "  u'build_number': 0,\n",
       "  u'build_string': u'0',\n",
       "  u'channel': u'microdrop-plugins',\n",
       "  u'dist_name': u'microdrop.droplet-planning-plugin-2.2.1-0',\n",
       "  u'name': u'microdrop.droplet-planning-plugin',\n",
       "  u'platform': None,\n",
       "  u'version': u'2.2.1',\n",
       "  u'with_features_depends': None},\n",
       " u'microdrop.mr-box-plugin': {u'base_url': None,\n",
       "  u'build_number': 0,\n",
       "  u'build_string': u'0',\n",
       "  u'channel': u'microdrop-plugins',\n",
       "  u'dist_name': u'microdrop.mr-box-plugin-0.14-0',\n",
       "  u'name': u'microdrop.mr-box-plugin',\n",
       "  u'platform': None,\n",
       "  u'version': u'0.14',\n",
       "  u'with_features_depends': None},\n",
       " u'microdrop.step-label-plugin': {u'base_url': None,\n",
       "  u'build_number': 0,\n",
       "  u'build_string': u'0',\n",
       "  u'channel': u'microdrop-plugins',\n",
       "  u'dist_name': u'microdrop.step-label-plugin-2.1-0',\n",
       "  u'name': u'microdrop.step-label-plugin',\n",
       "  u'platform': None,\n",
       "  u'version': u'2.1',\n",
       "  u'with_features_depends': None}}"
      ]
     },
     "execution_count": 20,
     "metadata": {},
     "output_type": "execute_result"
    }
   ],
   "source": [
    "all_installed_versions = json.loads(ch.conda_exec('list', '--json', verbose=False))\n",
    "installed_plugin_versions = {version_i['name']: version_i\n",
    "                             for version_i in all_installed_versions\n",
    "                             if version_i['name'] in package_names}\n",
    "installed_plugin_versions"
   ]
  }
 ],
 "metadata": {
  "kernelspec": {
   "display_name": "Python 2",
   "language": "python",
   "name": "python2"
  },
  "language_info": {
   "codemirror_mode": {
    "name": "ipython",
    "version": 2
   },
   "file_extension": ".py",
   "mimetype": "text/x-python",
   "name": "python",
   "nbconvert_exporter": "python",
   "pygments_lexer": "ipython2",
   "version": "2.7.13"
  },
  "toc": {
   "colors": {
    "hover_highlight": "#DAA520",
    "navigate_num": "#000000",
    "navigate_text": "#333333",
    "running_highlight": "#FF0000",
    "selected_highlight": "#FFD700",
    "sidebar_border": "#EEEEEE",
    "wrapper_background": "#FFFFFF"
   },
   "moveMenuLeft": true,
   "nav_menu": {
    "height": "12px",
    "width": "252px"
   },
   "navigate_menu": true,
   "number_sections": true,
   "sideBar": true,
   "threshold": 4,
   "toc_cell": false,
   "toc_section_display": "block",
   "toc_window_display": false,
   "widenNotebook": false
  }
 },
 "nbformat": 4,
 "nbformat_minor": 2
}
